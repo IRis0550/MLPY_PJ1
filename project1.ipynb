{
 "cells": [
  {
   "cell_type": "markdown",
   "id": "8281b6f8",
   "metadata": {},
   "source": [
    "# Machine Learning in Python - Project 1\n",
    "\n",
    "Due Sunday, March 8th by 4 pm.\n",
    "\n",
    "*Include contributors names in notebook metadata or here*"
   ]
  },
  {
   "cell_type": "code",
   "execution_count": null,
   "outputs": [],
   "source": [],
   "metadata": {
    "collapsed": false
   },
   "id": "4832487da701400"
  },
  {
   "cell_type": "markdown",
   "id": "821233d2",
   "metadata": {},
   "source": [
    "## Setup\n",
    "\n",
    "*Install any packages here and load data*"
   ]
  },
  {
   "cell_type": "code",
   "execution_count": 1,
   "id": "7e1ba94a",
   "metadata": {
    "ExecuteTime": {
     "end_time": "2024-02-29T13:27:12.022061Z",
     "start_time": "2024-02-29T13:27:11.912526Z"
    }
   },
   "outputs": [],
   "source": [
    "# Add any additional libraries or submodules below\n",
    "\n",
    "# Data libraries\n",
    "import pandas as pd\n",
    "import numpy as np\n",
    "\n",
    "# Plotting libraries\n",
    "import matplotlib.pyplot as plt\n",
    "import seaborn as sns\n",
    "\n",
    "# Plotting defaults\n",
    "plt.rcParams['figure.figsize'] = (8,5)\n",
    "plt.rcParams['figure.dpi'] = 80\n",
    "\n",
    "# sklearn modules\n",
    "import sklearn"
   ]
  },
  {
   "cell_type": "code",
   "execution_count": 2,
   "id": "62abe5f5",
   "metadata": {
    "ExecuteTime": {
     "end_time": "2024-02-29T13:27:14.963454Z",
     "start_time": "2024-02-29T13:27:14.573333Z"
    }
   },
   "outputs": [
    {
     "data": {
      "text/plain": "        mergeid  int_year  wave  country  country_mod  female        age  \\\n0  AT-000674-01    2011.0   4.0     11.0         40.0     1.0  59.700001   \n1  AT-001215-01    2011.0   4.0     11.0         40.0     1.0  72.599998   \n2  AT-001492-01    2011.0   4.0     11.0         40.0     1.0  59.599998   \n3  AT-001492-02    2011.0   4.0     11.0         40.0     0.0  59.799999   \n4  AT-001816-01    2004.0   1.0     11.0         40.0     1.0  61.299999   \n\n   birth_country  citizenship  isced1997_r  ...  bmi2  smoking  ever_smoked  \\\n0           40.0         40.0          5.0  ...   2.0      5.0          5.0   \n1          528.0        528.0          5.0  ...   3.0      1.0          1.0   \n2           40.0         40.0          3.0  ...   2.0      5.0          1.0   \n3           40.0         40.0          4.0  ...   2.0      1.0          1.0   \n4           40.0         40.0          3.0  ...   2.0      5.0          1.0   \n\n   br010_mod  br015_  casp  chronic_mod  sp008_  ch001_  cogscore  \n0        5.0     1.0  44.0          1.0     5.0     2.0       8.0  \n1        2.0     1.0  35.0          6.0     1.0     0.0      14.5  \n2        7.0     2.0  43.0          1.0     5.0     6.0      18.5  \n3        7.0     3.0  47.0          1.0     NaN     6.0      24.0  \n4        4.0     3.0  43.0          0.0     5.0     2.0      20.0  \n\n[5 rows x 23 columns]",
      "text/html": "<div>\n<style scoped>\n    .dataframe tbody tr th:only-of-type {\n        vertical-align: middle;\n    }\n\n    .dataframe tbody tr th {\n        vertical-align: top;\n    }\n\n    .dataframe thead th {\n        text-align: right;\n    }\n</style>\n<table border=\"1\" class=\"dataframe\">\n  <thead>\n    <tr style=\"text-align: right;\">\n      <th></th>\n      <th>mergeid</th>\n      <th>int_year</th>\n      <th>wave</th>\n      <th>country</th>\n      <th>country_mod</th>\n      <th>female</th>\n      <th>age</th>\n      <th>birth_country</th>\n      <th>citizenship</th>\n      <th>isced1997_r</th>\n      <th>...</th>\n      <th>bmi2</th>\n      <th>smoking</th>\n      <th>ever_smoked</th>\n      <th>br010_mod</th>\n      <th>br015_</th>\n      <th>casp</th>\n      <th>chronic_mod</th>\n      <th>sp008_</th>\n      <th>ch001_</th>\n      <th>cogscore</th>\n    </tr>\n  </thead>\n  <tbody>\n    <tr>\n      <th>0</th>\n      <td>AT-000674-01</td>\n      <td>2011.0</td>\n      <td>4.0</td>\n      <td>11.0</td>\n      <td>40.0</td>\n      <td>1.0</td>\n      <td>59.700001</td>\n      <td>40.0</td>\n      <td>40.0</td>\n      <td>5.0</td>\n      <td>...</td>\n      <td>2.0</td>\n      <td>5.0</td>\n      <td>5.0</td>\n      <td>5.0</td>\n      <td>1.0</td>\n      <td>44.0</td>\n      <td>1.0</td>\n      <td>5.0</td>\n      <td>2.0</td>\n      <td>8.0</td>\n    </tr>\n    <tr>\n      <th>1</th>\n      <td>AT-001215-01</td>\n      <td>2011.0</td>\n      <td>4.0</td>\n      <td>11.0</td>\n      <td>40.0</td>\n      <td>1.0</td>\n      <td>72.599998</td>\n      <td>528.0</td>\n      <td>528.0</td>\n      <td>5.0</td>\n      <td>...</td>\n      <td>3.0</td>\n      <td>1.0</td>\n      <td>1.0</td>\n      <td>2.0</td>\n      <td>1.0</td>\n      <td>35.0</td>\n      <td>6.0</td>\n      <td>1.0</td>\n      <td>0.0</td>\n      <td>14.5</td>\n    </tr>\n    <tr>\n      <th>2</th>\n      <td>AT-001492-01</td>\n      <td>2011.0</td>\n      <td>4.0</td>\n      <td>11.0</td>\n      <td>40.0</td>\n      <td>1.0</td>\n      <td>59.599998</td>\n      <td>40.0</td>\n      <td>40.0</td>\n      <td>3.0</td>\n      <td>...</td>\n      <td>2.0</td>\n      <td>5.0</td>\n      <td>1.0</td>\n      <td>7.0</td>\n      <td>2.0</td>\n      <td>43.0</td>\n      <td>1.0</td>\n      <td>5.0</td>\n      <td>6.0</td>\n      <td>18.5</td>\n    </tr>\n    <tr>\n      <th>3</th>\n      <td>AT-001492-02</td>\n      <td>2011.0</td>\n      <td>4.0</td>\n      <td>11.0</td>\n      <td>40.0</td>\n      <td>0.0</td>\n      <td>59.799999</td>\n      <td>40.0</td>\n      <td>40.0</td>\n      <td>4.0</td>\n      <td>...</td>\n      <td>2.0</td>\n      <td>1.0</td>\n      <td>1.0</td>\n      <td>7.0</td>\n      <td>3.0</td>\n      <td>47.0</td>\n      <td>1.0</td>\n      <td>NaN</td>\n      <td>6.0</td>\n      <td>24.0</td>\n    </tr>\n    <tr>\n      <th>4</th>\n      <td>AT-001816-01</td>\n      <td>2004.0</td>\n      <td>1.0</td>\n      <td>11.0</td>\n      <td>40.0</td>\n      <td>1.0</td>\n      <td>61.299999</td>\n      <td>40.0</td>\n      <td>40.0</td>\n      <td>3.0</td>\n      <td>...</td>\n      <td>2.0</td>\n      <td>5.0</td>\n      <td>1.0</td>\n      <td>4.0</td>\n      <td>3.0</td>\n      <td>43.0</td>\n      <td>0.0</td>\n      <td>5.0</td>\n      <td>2.0</td>\n      <td>20.0</td>\n    </tr>\n  </tbody>\n</table>\n<p>5 rows × 23 columns</p>\n</div>"
     },
     "execution_count": 2,
     "metadata": {},
     "output_type": "execute_result"
    }
   ],
   "source": [
    "# Load data in easyshare.csv\n",
    "d = pd.read_csv(\"easyshare.csv\")\n",
    "d.head()"
   ]
  },
  {
   "cell_type": "markdown",
   "id": "28603fe7",
   "metadata": {},
   "source": [
    "# Introduction\n",
    "\n",
    "*This section should include a brief introduction to the task and the data (assume this is a report you are delivering to a professional body (e.g. European Union, Governments, Health Institutes and/or Charities on dementia and ageing). If you use any additional data sources, you should introduce them here and discuss why they were included.*\n",
    "\n",
    "*Briefly outline the approaches being used and the conclusions that you are able to draw.*"
   ]
  },
  {
   "cell_type": "code",
   "execution_count": 3,
   "outputs": [
    {
     "data": {
      "text/plain": "(           int_year          wave       country   country_mod        female  \\\n count  97372.000000  97372.000000  97372.000000  97372.000000  97372.000000   \n mean    2010.467537      3.794612     24.272080    384.954135      0.541480   \n std        4.632490      2.146070     12.298221    229.261059      0.498279   \n min     2004.000000      1.000000     11.000000     40.000000      0.000000   \n 25%     2006.000000      2.000000     15.000000    208.000000      0.000000   \n 50%     2011.000000      4.000000     20.000000    300.000000      1.000000   \n 75%     2013.000000      5.000000     31.000000    616.000000      1.000000   \n max     2020.000000      8.000000     63.000000    756.000000      1.000000   \n \n                 age  birth_country   citizenship   isced1997_r  eduyears_mod  \\\n count  97372.000000   97170.000000  97281.000000  97372.000000  84532.000000   \n mean      67.938640     398.304456    391.759830      2.658916     10.427832   \n std        8.864202     237.542164    232.965078      1.493547      4.264231   \n min       55.099998       2.000000      4.000000      0.000000      0.000000   \n 25%       60.500000     208.000000    208.000000      1.000000      8.000000   \n 50%       66.599998     348.000000    348.000000      3.000000     11.000000   \n 75%       74.199997     642.000000    620.000000      3.000000     13.000000   \n max      111.599998    1101.000000   1132.000000      6.000000     30.000000   \n \n        ...          bmi2       smoking   ever_smoked     br010_mod  \\\n count  ...  94686.000000  96887.000000  97116.000000  79210.000000   \n mean   ...      2.849788      4.341790      3.255282      3.345916   \n std    ...      0.762833      1.483112      1.983651      2.244878   \n min    ...      1.000000      1.000000      1.000000      1.000000   \n 25%    ...      2.000000      5.000000      1.000000      1.000000   \n 50%    ...      3.000000      5.000000      5.000000      3.000000   \n 75%    ...      3.000000      5.000000      5.000000      5.000000   \n max    ...      4.000000      5.000000      5.000000      7.000000   \n \n              br015_          casp   chronic_mod        sp008_        ch001_  \\\n count  97113.000000  84065.000000  97283.000000  83175.000000  96928.000000   \n mean       2.672248     36.744008      1.305922      3.978635      2.173335   \n std        1.325228      6.463052      1.269872      1.744222      1.403437   \n min        1.000000     12.000000      0.000000      1.000000      0.000000   \n 25%        1.000000     32.000000      0.000000      1.000000      1.000000   \n 50%        3.000000     37.000000      1.000000      5.000000      2.000000   \n 75%        4.000000     42.000000      2.000000      5.000000      3.000000   \n max        4.000000     48.000000      9.000000      5.000000     17.000000   \n \n            cogscore  \n count  97372.000000  \n mean      11.973714  \n std        4.184386  \n min        0.000000  \n 25%        9.000000  \n 50%       12.000000  \n 75%       15.000000  \n max       26.000000  \n \n [8 rows x 22 columns],\n mergeid            976\n int_year           976\n wave               976\n country            976\n country_mod        976\n female             976\n age                976\n birth_country     1178\n citizenship       1067\n isced1997_r        976\n eduyears_mod     13816\n eurod             2510\n bmi               3662\n bmi2              3662\n smoking           1461\n ever_smoked       1232\n br010_mod        19138\n br015_            1235\n casp             14283\n chronic_mod       1065\n sp008_           15173\n ch001_            1420\n cogscore           976\n dtype: int64)"
     },
     "execution_count": 3,
     "metadata": {},
     "output_type": "execute_result"
    }
   ],
   "source": [
    "import pandas as pd\n",
    "\n",
    "# Generate descriptive statistics for numerical variables\n",
    "descriptive_stats = d.describe()\n",
    "\n",
    "# Check for missing values\n",
    "missing_values = d.isnull().sum()\n",
    "\n",
    "# Output the results\n",
    "missing_values"
   ],
   "metadata": {
    "collapsed": false,
    "ExecuteTime": {
     "end_time": "2024-02-29T13:33:12.715857Z",
     "start_time": "2024-02-29T13:33:12.503111Z"
    }
   },
   "id": "3c4eaffd58baaed7"
  },
  {
   "cell_type": "code",
   "execution_count": 4,
   "outputs": [
    {
     "data": {
      "text/plain": "           int_year          wave       country   country_mod        female  \\\ncount  97372.000000  97372.000000  97372.000000  97372.000000  97372.000000   \nmean    2010.467537      3.794612     24.272080    384.954135      0.541480   \nstd        4.632490      2.146070     12.298221    229.261059      0.498279   \nmin     2004.000000      1.000000     11.000000     40.000000      0.000000   \n25%     2006.000000      2.000000     15.000000    208.000000      0.000000   \n50%     2011.000000      4.000000     20.000000    300.000000      1.000000   \n75%     2013.000000      5.000000     31.000000    616.000000      1.000000   \nmax     2020.000000      8.000000     63.000000    756.000000      1.000000   \n\n                age  birth_country   citizenship   isced1997_r  eduyears_mod  \\\ncount  97372.000000   97170.000000  97281.000000  97372.000000  84532.000000   \nmean      67.938640     398.304456    391.759830      2.658916     10.427832   \nstd        8.864202     237.542164    232.965078      1.493547      4.264231   \nmin       55.099998       2.000000      4.000000      0.000000      0.000000   \n25%       60.500000     208.000000    208.000000      1.000000      8.000000   \n50%       66.599998     348.000000    348.000000      3.000000     11.000000   \n75%       74.199997     642.000000    620.000000      3.000000     13.000000   \nmax      111.599998    1101.000000   1132.000000      6.000000     30.000000   \n\n       ...          bmi2       smoking   ever_smoked     br010_mod  \\\ncount  ...  94686.000000  96887.000000  97116.000000  79210.000000   \nmean   ...      2.849788      4.341790      3.255282      3.345916   \nstd    ...      0.762833      1.483112      1.983651      2.244878   \nmin    ...      1.000000      1.000000      1.000000      1.000000   \n25%    ...      2.000000      5.000000      1.000000      1.000000   \n50%    ...      3.000000      5.000000      5.000000      3.000000   \n75%    ...      3.000000      5.000000      5.000000      5.000000   \nmax    ...      4.000000      5.000000      5.000000      7.000000   \n\n             br015_          casp   chronic_mod        sp008_        ch001_  \\\ncount  97113.000000  84065.000000  97283.000000  83175.000000  96928.000000   \nmean       2.672248     36.744008      1.305922      3.978635      2.173335   \nstd        1.325228      6.463052      1.269872      1.744222      1.403437   \nmin        1.000000     12.000000      0.000000      1.000000      0.000000   \n25%        1.000000     32.000000      0.000000      1.000000      1.000000   \n50%        3.000000     37.000000      1.000000      5.000000      2.000000   \n75%        4.000000     42.000000      2.000000      5.000000      3.000000   \nmax        4.000000     48.000000      9.000000      5.000000     17.000000   \n\n           cogscore  \ncount  97372.000000  \nmean      11.973714  \nstd        4.184386  \nmin        0.000000  \n25%        9.000000  \n50%       12.000000  \n75%       15.000000  \nmax       26.000000  \n\n[8 rows x 22 columns]",
      "text/html": "<div>\n<style scoped>\n    .dataframe tbody tr th:only-of-type {\n        vertical-align: middle;\n    }\n\n    .dataframe tbody tr th {\n        vertical-align: top;\n    }\n\n    .dataframe thead th {\n        text-align: right;\n    }\n</style>\n<table border=\"1\" class=\"dataframe\">\n  <thead>\n    <tr style=\"text-align: right;\">\n      <th></th>\n      <th>int_year</th>\n      <th>wave</th>\n      <th>country</th>\n      <th>country_mod</th>\n      <th>female</th>\n      <th>age</th>\n      <th>birth_country</th>\n      <th>citizenship</th>\n      <th>isced1997_r</th>\n      <th>eduyears_mod</th>\n      <th>...</th>\n      <th>bmi2</th>\n      <th>smoking</th>\n      <th>ever_smoked</th>\n      <th>br010_mod</th>\n      <th>br015_</th>\n      <th>casp</th>\n      <th>chronic_mod</th>\n      <th>sp008_</th>\n      <th>ch001_</th>\n      <th>cogscore</th>\n    </tr>\n  </thead>\n  <tbody>\n    <tr>\n      <th>count</th>\n      <td>97372.000000</td>\n      <td>97372.000000</td>\n      <td>97372.000000</td>\n      <td>97372.000000</td>\n      <td>97372.000000</td>\n      <td>97372.000000</td>\n      <td>97170.000000</td>\n      <td>97281.000000</td>\n      <td>97372.000000</td>\n      <td>84532.000000</td>\n      <td>...</td>\n      <td>94686.000000</td>\n      <td>96887.000000</td>\n      <td>97116.000000</td>\n      <td>79210.000000</td>\n      <td>97113.000000</td>\n      <td>84065.000000</td>\n      <td>97283.000000</td>\n      <td>83175.000000</td>\n      <td>96928.000000</td>\n      <td>97372.000000</td>\n    </tr>\n    <tr>\n      <th>mean</th>\n      <td>2010.467537</td>\n      <td>3.794612</td>\n      <td>24.272080</td>\n      <td>384.954135</td>\n      <td>0.541480</td>\n      <td>67.938640</td>\n      <td>398.304456</td>\n      <td>391.759830</td>\n      <td>2.658916</td>\n      <td>10.427832</td>\n      <td>...</td>\n      <td>2.849788</td>\n      <td>4.341790</td>\n      <td>3.255282</td>\n      <td>3.345916</td>\n      <td>2.672248</td>\n      <td>36.744008</td>\n      <td>1.305922</td>\n      <td>3.978635</td>\n      <td>2.173335</td>\n      <td>11.973714</td>\n    </tr>\n    <tr>\n      <th>std</th>\n      <td>4.632490</td>\n      <td>2.146070</td>\n      <td>12.298221</td>\n      <td>229.261059</td>\n      <td>0.498279</td>\n      <td>8.864202</td>\n      <td>237.542164</td>\n      <td>232.965078</td>\n      <td>1.493547</td>\n      <td>4.264231</td>\n      <td>...</td>\n      <td>0.762833</td>\n      <td>1.483112</td>\n      <td>1.983651</td>\n      <td>2.244878</td>\n      <td>1.325228</td>\n      <td>6.463052</td>\n      <td>1.269872</td>\n      <td>1.744222</td>\n      <td>1.403437</td>\n      <td>4.184386</td>\n    </tr>\n    <tr>\n      <th>min</th>\n      <td>2004.000000</td>\n      <td>1.000000</td>\n      <td>11.000000</td>\n      <td>40.000000</td>\n      <td>0.000000</td>\n      <td>55.099998</td>\n      <td>2.000000</td>\n      <td>4.000000</td>\n      <td>0.000000</td>\n      <td>0.000000</td>\n      <td>...</td>\n      <td>1.000000</td>\n      <td>1.000000</td>\n      <td>1.000000</td>\n      <td>1.000000</td>\n      <td>1.000000</td>\n      <td>12.000000</td>\n      <td>0.000000</td>\n      <td>1.000000</td>\n      <td>0.000000</td>\n      <td>0.000000</td>\n    </tr>\n    <tr>\n      <th>25%</th>\n      <td>2006.000000</td>\n      <td>2.000000</td>\n      <td>15.000000</td>\n      <td>208.000000</td>\n      <td>0.000000</td>\n      <td>60.500000</td>\n      <td>208.000000</td>\n      <td>208.000000</td>\n      <td>1.000000</td>\n      <td>8.000000</td>\n      <td>...</td>\n      <td>2.000000</td>\n      <td>5.000000</td>\n      <td>1.000000</td>\n      <td>1.000000</td>\n      <td>1.000000</td>\n      <td>32.000000</td>\n      <td>0.000000</td>\n      <td>1.000000</td>\n      <td>1.000000</td>\n      <td>9.000000</td>\n    </tr>\n    <tr>\n      <th>50%</th>\n      <td>2011.000000</td>\n      <td>4.000000</td>\n      <td>20.000000</td>\n      <td>300.000000</td>\n      <td>1.000000</td>\n      <td>66.599998</td>\n      <td>348.000000</td>\n      <td>348.000000</td>\n      <td>3.000000</td>\n      <td>11.000000</td>\n      <td>...</td>\n      <td>3.000000</td>\n      <td>5.000000</td>\n      <td>5.000000</td>\n      <td>3.000000</td>\n      <td>3.000000</td>\n      <td>37.000000</td>\n      <td>1.000000</td>\n      <td>5.000000</td>\n      <td>2.000000</td>\n      <td>12.000000</td>\n    </tr>\n    <tr>\n      <th>75%</th>\n      <td>2013.000000</td>\n      <td>5.000000</td>\n      <td>31.000000</td>\n      <td>616.000000</td>\n      <td>1.000000</td>\n      <td>74.199997</td>\n      <td>642.000000</td>\n      <td>620.000000</td>\n      <td>3.000000</td>\n      <td>13.000000</td>\n      <td>...</td>\n      <td>3.000000</td>\n      <td>5.000000</td>\n      <td>5.000000</td>\n      <td>5.000000</td>\n      <td>4.000000</td>\n      <td>42.000000</td>\n      <td>2.000000</td>\n      <td>5.000000</td>\n      <td>3.000000</td>\n      <td>15.000000</td>\n    </tr>\n    <tr>\n      <th>max</th>\n      <td>2020.000000</td>\n      <td>8.000000</td>\n      <td>63.000000</td>\n      <td>756.000000</td>\n      <td>1.000000</td>\n      <td>111.599998</td>\n      <td>1101.000000</td>\n      <td>1132.000000</td>\n      <td>6.000000</td>\n      <td>30.000000</td>\n      <td>...</td>\n      <td>4.000000</td>\n      <td>5.000000</td>\n      <td>5.000000</td>\n      <td>7.000000</td>\n      <td>4.000000</td>\n      <td>48.000000</td>\n      <td>9.000000</td>\n      <td>5.000000</td>\n      <td>17.000000</td>\n      <td>26.000000</td>\n    </tr>\n  </tbody>\n</table>\n<p>8 rows × 22 columns</p>\n</div>"
     },
     "execution_count": 4,
     "metadata": {},
     "output_type": "execute_result"
    }
   ],
   "source": [
    "descriptive_stats"
   ],
   "metadata": {
    "collapsed": false,
    "ExecuteTime": {
     "end_time": "2024-02-29T13:33:28.823013Z",
     "start_time": "2024-02-29T13:33:28.812Z"
    }
   },
   "id": "62acd8ac48a914f1"
  },
  {
   "cell_type": "markdown",
   "id": "af4bc461",
   "metadata": {},
   "source": [
    "# Exploratory Data Analysis and Feature Engineering\n",
    "\n",
    "*Include a detailed discussion of the data with a particular emphasis on the features of the data that are relevant for the subsequent modeling. Including visualizations of the data is strongly encouraged - all code and plots must also be described in the write up. Think carefully about whether each plot needs to be included in your final draft - your report should include figures but they should be as focused and impactful as possible.*\n",
    "\n",
    "*You should also split your data into training and testing sets, ideally before you look to much into the features and relationships with the target*\n",
    "\n",
    "*Additionally, this section should also implement and describe any preprocessing / feature engineering of the data. Specifically, this should be any code that you use to generate new columns in the data frame `d`. Feature engineering that will be performed as part of an sklearn pipeline can be mentioned here but should be implemented in the following section.*\n",
    "\n",
    "*If you decide to extract additional features from the full data (easyshare_all.csv), describe these variables here.*\n",
    "\n",
    "*All code and figures should be accompanied by text that provides an overview / context to what is being done or presented.*"
   ]
  },
  {
   "cell_type": "markdown",
   "id": "7bc9fe39",
   "metadata": {},
   "source": [
    "# Model Fitting and Tuning\n",
    "\n",
    "*In this section you should detail your choice of model and describe the process used to refine and fit that model. You are strongly encouraged to explore many different modeling methods (e.g. linear regression, interaction terms, lasso, etc.) but you should not include a detailed narrative of all of these attempts. At most this section should mention the methods explored and why they were rejected - most of your effort should go into describing the model you are using and your process for tuning and validating it.*\n",
    "\n",
    "*For example if you considered a linear regression model, a polynomial regression, and a lasso model and ultimately settled on the linear regression approach then you should mention that other two approaches were tried but do not include any of the code or any in depth discussion of these models beyond why they were rejected. This section should then detail is the development of the linear regression model in terms of features used, interactions considered, and any additional tuning and validation which ultimately led to your final model.* \n",
    "\n",
    "*This section should also include the full implementation of your final model, including all necessary validation. As with figures, any included code must also be addressed in the text of the document.*\n",
    "\n",
    "*Finally, you should also provide comparison of your model with baseline model(s) on the test data but only briefly describe the baseline model(s) considered*"
   ]
  },
  {
   "cell_type": "markdown",
   "id": "308a9c84",
   "metadata": {},
   "source": [
    "# Discussion & Conclusions\n",
    "\n",
    "*In this section you should provide a general overview of your final model, its performance, and reliability. You should discuss what the implications of your model are in terms of the included features, predictive performance, and anything else you think is relevant.*\n",
    "\n",
    "*This should be written with a target audience of a government official or charity directy, who is understands the pressing challenges associated with ageining and dementia but may only have university level mathematics (not necessarily postgraduate statistics or machine learning). Your goal should be to highlight to this audience how your model can useful. You should also mention potential limitations of your model.*\n",
    "\n",
    "*Finally, you should include recommendations on potential lifestyle changes or governmental/societal interventions to reduce dementia risk.*\n",
    "\n",
    "*Keep in mind that a negative result, i.e. a model that does not work well predictively, that is well explained and justified in terms of why it failed will likely receive higher marks than a model with strong predictive performance but with poor or incorrect explinations / justifications.*"
   ]
  },
  {
   "cell_type": "markdown",
   "id": "4fd5781e",
   "metadata": {},
   "source": [
    "# References\n",
    "\n",
    "*Include references if any*"
   ]
  },
  {
   "cell_type": "code",
   "execution_count": null,
   "id": "0e3625a7",
   "metadata": {},
   "outputs": [],
   "source": [
    "# Run the following to render to PDF\n",
    "!jupyter nbconvert --to pdf project1.ipynb"
   ]
  }
 ],
 "metadata": {
  "authors": [
   {
    "name": "Student 1"
   },
   {
    "name": "Student 2"
   }
  ],
  "kernelspec": {
   "display_name": "Python 3 (ipykernel)",
   "language": "python",
   "name": "python3"
  },
  "language_info": {
   "codemirror_mode": {
    "name": "ipython",
    "version": 3
   },
   "file_extension": ".py",
   "mimetype": "text/x-python",
   "name": "python",
   "nbconvert_exporter": "python",
   "pygments_lexer": "ipython3",
   "version": "3.9.7"
  },
  "title": "Project 1: Predicting Dementia Severity"
 },
 "nbformat": 4,
 "nbformat_minor": 5
}
